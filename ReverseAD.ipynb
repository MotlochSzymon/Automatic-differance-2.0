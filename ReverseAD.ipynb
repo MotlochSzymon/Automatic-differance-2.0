{
 "cells": [
  {
   "cell_type": "markdown",
   "metadata": {},
   "source": [
    "# Structure Definition"
   ]
  },
  {
   "cell_type": "code",
   "execution_count": 33,
   "metadata": {},
   "outputs": [
    {
     "data": {
      "text/plain": [
       "Main.RDStructure"
      ]
     },
     "execution_count": 33,
     "metadata": {},
     "output_type": "execute_result"
    }
   ],
   "source": [
    "abstract type Node end\n",
    "abstract type LeafNode <: Node end\n",
    "mutable struct Variable{T} <: LeafNode\n",
    "    value::T\n",
    "    grad::T\n",
    "#! inicjalizacja wartości gradientu nie wartościami losowymi!!!!\n",
    "    Variable(val::T) where T = new{T}(val, 0.001 .* val)\n",
    "    Variable(val::T, grad::T) where T = new{T}(val, grad)\n",
    "end\n",
    "\n",
    "\n",
    "struct ComputableNode{TOperation, TAttributes} <: Node \n",
    "    operation::TOperation\n",
    "    attribute::TAttributes\n",
    "end\n",
    "\n",
    "mutable struct CachedNode{TNode, TOutput} <: Node\n",
    "    node::TNode\n",
    "    output::TOutput\n",
    "end"
   ]
  },
  {
   "cell_type": "markdown",
   "metadata": {},
   "source": [
    "# Creating Nodes functions"
   ]
  },
  {
   "cell_type": "code",
   "execution_count": 2,
   "metadata": {},
   "outputs": [
    {
     "data": {
      "text/plain": [
       "fgrad (generic function with 2 methods)"
      ]
     },
     "execution_count": 2,
     "metadata": {},
     "output_type": "execute_result"
    }
   ],
   "source": [
    "function register(op, args...)\n",
    " node = ComputableNode(op, args)\n",
    " out = forward(node)\n",
    " CachedNode(node, out)\n",
    "end\n",
    "\n",
    "import Base: +, -, *, /, sin,cos,tan,exp\n",
    "import Base: zero, isless\n",
    "import Base: convert, promote_rule\n",
    "+(x::Node, y::Node) = register(+, x, y)\n",
    "-(x::Node, y::Node) = register(-, x, y)\n",
    "*(x::Node, y::Node) = register(*, x, y)\n",
    "/(x::Node, y::Node) = register(/, x, y)\n",
    "sin(x::Node) = register(sin,x)\n",
    "cos(x::Node) = register(cos,x)\n",
    "tan(x::Node) = register(tan,x)\n",
    "exp(x::Node) = register(exp,x)\n",
    "\n",
    "forward(cached::CachedNode) = cached.output = forward(cached.node)\n",
    "forward(node::ComputableNode) = forward(node.operation, map(forward, node.attribute)...)\n",
    "forward(op::Function, args...) = op(args...)\n",
    "forward(var::Variable) = var.value\n",
    "value(x::Variable) = x.value\n",
    "\n",
    "\n",
    "\n",
    "zero(x::Variable) = Variable(0.0, 0.0);\n",
    "isless(x::Variable{any}, y::Variable{any}) = x.value < y.value;\n",
    "isless(x::Float64, y::Variable{Float64}) = x < y.value;\n",
    "isless(x::Int64, y::Variable{Float64}) = x < y.value;\n",
    "\n",
    "convert(::Type{Variable{T}}, x::Variable) where T =\n",
    " Variable(convert(T, x.value), convert(T, x.grad))\n",
    "convert(::Type{Variable{T}}, x::Number) where T =\n",
    " Variable(convert(T, x), zero(T))\n",
    "promote_rule(::Type{Variable{T}}, ::Type{R}) where {T,R} =\n",
    " Variable{promote_type(T,R)}\n",
    "\n",
    "function fval(f, xv, yv)\n",
    " x, y = Variable(xv), Variable(yv)\n",
    " z = f(x, y)\n",
    " value(z)\n",
    "end\n",
    "function fgrad(f, xv, yv)\n",
    " x, y = Variable(xv), Variable(yv)\n",
    " z = f(x, y)\n",
    " backward(z, Variable(1.0))\n",
    " 5e-4x.grad, 5e-4y.grad\n",
    "end\n",
    "\n",
    "\n",
    "function fval(f, xv)\n",
    " x = Variable(xv)\n",
    " z = f(x)\n",
    " value(z)\n",
    "end\n",
    "function fgrad(f, xv)\n",
    " x = Variable(xv)\n",
    " z = f(x)\n",
    " backward(z, 1)\n",
    " x.grad\n",
    "end"
   ]
  },
  {
   "cell_type": "markdown",
   "metadata": {},
   "source": [
    "# Backward AD"
   ]
  },
  {
   "cell_type": "code",
   "execution_count": 3,
   "metadata": {},
   "outputs": [
    {
     "data": {
      "text/plain": [
       "backward (generic function with 2 methods)"
      ]
     },
     "execution_count": 3,
     "metadata": {},
     "output_type": "execute_result"
    }
   ],
   "source": [
    "function backward(cached::CachedNode, grad::Any)\n",
    "  grad_inputs = gradient(cached, grad)\n",
    "  for (each, each_grad) in zip(cached.node.attribute, grad_inputs)\n",
    "    backward(each, each_grad)\n",
    "  end\n",
    "end\n",
    "# function backward(cached::CachedNode)\n",
    "# end\n",
    "+(x::Variable{Float64}, y::Float64) = +(value(x), y)\n",
    "*(x::Variable{Float64}, y::Float64) = *(value(x), y)\n",
    "# -(x::CachedNode{ComputableNode{typeof(+),Tuple{Variable{Float64},Variable{Float64}}},Float64}, y::Float64) =\n",
    "#     -(value(x),y)\n",
    "# *(x::CachedNode{ComputableNode{typeof(+),Tuple{Variable{Float64},Variable{Float64}}},Float64}, y::Float64) =\n",
    "#     *(value(x), y)\n",
    "\n",
    "gradient(cached::CachedNode, grad) =\n",
    " gradient(cached.node.operation, grad, map(value, cached.node.attribute)...)\n",
    "gradient(op::Function, grad, args...) =\n",
    " gradient(op, grad, args...)\n",
    "value(cached::CachedNode) = value(cached.output)\n",
    "value(var::Variable) = var.value\n",
    "value(var::Float64) = var\n",
    "gradient(::typeof(+), grad, x, y) = (grad * (1 + y), grad * (x+1))\n",
    "gradient(::typeof(-), grad, x, y) = (grad * (1- y), grad * (x-1))\n",
    "gradient(::typeof(/), grad, x, y) = (grad / y, -1.0 * grad * x / y^2)\n",
    "gradient(::typeof(*), grad, x, y) = (grad * y, grad * x)\n",
    "gradient(::typeof(sin), grad, x) = (grad * cos(x), )\n",
    "gradient(::typeof(cos), grad, x) = (-grad * cos(x), )\n",
    "gradient(::typeof(tan), grad, x) = (grad/(cos(x)*cos(x)), )\n",
    "gradient(::typeof(exp), grad, x) = (grad * exp(x), )\n",
    "\n",
    "\n",
    "function backward(var::Variable, grad)\n",
    " if isdefined(var, :grad)\n",
    "        var.grad += grad\n",
    "    else\n",
    "        var.grad = grad\n",
    "    end\n",
    "    nothing\n",
    "end"
   ]
  },
  {
   "cell_type": "markdown",
   "metadata": {},
   "source": [
    "# Test set"
   ]
  },
  {
   "cell_type": "code",
   "execution_count": 8,
   "metadata": {},
   "outputs": [],
   "source": [
    "v = -1:.2:+1\n",
    "n = length(v)\n",
    "xv = repeat(v, inner=n)\n",
    "yv = repeat(v, outer=n)\n",
    "\n",
    "x = -1.0:0.05:+1.0\n",
    "range =  0:π/360:2*π;\n",
    "rangeTan = [i for i in -π/2+π/180:π/180:π/2- π/180] ;\n",
    "\n",
    "m = [i for i in 1:0.5:10];"
   ]
  },
  {
   "cell_type": "markdown",
   "metadata": {},
   "source": [
    "# Rosenbrock"
   ]
  },
  {
   "cell_type": "code",
   "execution_count": null,
   "metadata": {},
   "outputs": [],
   "source": [
    "rosenbrock(x, y) = (Variable(1.0) - x*x) + Variable(100.0)*(y - x*x)*(y - x*x)"
   ]
  },
  {
   "cell_type": "code",
   "execution_count": null,
   "metadata": {},
   "outputs": [],
   "source": [
    "zv = fval.(rosenbrock, xv, yv)\n",
    "dz = fgrad.(rosenbrock, xv[:], yv[:])"
   ]
  },
  {
   "cell_type": "markdown",
   "metadata": {},
   "source": [
    "# Plotting"
   ]
  },
  {
   "cell_type": "code",
   "execution_count": null,
   "metadata": {},
   "outputs": [],
   "source": [
    "using Plots\n",
    "zv = reshape(zv, n, n)\n",
    "contour(v, v, zv, fill=true)\n",
    "quiver!(xv[:], yv[:], gradient=dz)"
   ]
  },
  {
   "cell_type": "markdown",
   "metadata": {},
   "source": [
    "# ReLu"
   ]
  },
  {
   "cell_type": "code",
   "execution_count": null,
   "metadata": {},
   "outputs": [],
   "source": [
    "ReLu(x::Variable) = x > 0 ? x : zero(x)"
   ]
  },
  {
   "cell_type": "code",
   "execution_count": null,
   "metadata": {},
   "outputs": [],
   "source": [
    "y = fval.(ReLu, x);\n",
    "d = fgrad.(ReLu, x);"
   ]
  },
  {
   "cell_type": "code",
   "execution_count": null,
   "metadata": {},
   "outputs": [],
   "source": [
    "using Plots\n",
    "plot(x, d, label = \"partials\")\n",
    "plot!(x, y, label = \"values\")"
   ]
  },
  {
   "cell_type": "markdown",
   "metadata": {},
   "source": [
    "# Sinus"
   ]
  },
  {
   "cell_type": "code",
   "execution_count": null,
   "metadata": {},
   "outputs": [],
   "source": [
    "y = fval.(sin, range);\n",
    "d = fgrad.(sin, range);\n",
    "\n",
    "using Plots\n",
    "plot(range, d, label = \"partials\")\n",
    "plot!(range, y, label = \"values\")"
   ]
  },
  {
   "cell_type": "markdown",
   "metadata": {},
   "source": [
    "# Cosiuns"
   ]
  },
  {
   "cell_type": "code",
   "execution_count": null,
   "metadata": {},
   "outputs": [],
   "source": [
    "y = fval.(cos, range);\n",
    "d = fgrad.(cos, range)\n",
    "\n",
    "using Plots\n",
    "plot(range, d, label = \"partials\")\n",
    "plot!(range, y, label = \"values\")"
   ]
  },
  {
   "cell_type": "markdown",
   "metadata": {},
   "source": [
    "# Tanges"
   ]
  },
  {
   "cell_type": "code",
   "execution_count": null,
   "metadata": {},
   "outputs": [],
   "source": [
    "y = fval.(tan, rangeTan);\n",
    "d = fgrad.(tan, rangeTan);"
   ]
  },
  {
   "cell_type": "code",
   "execution_count": 35,
   "metadata": {},
   "outputs": [
    {
     "ename": "BoundsError",
     "evalue": "BoundsError: attempt to access 179-element Array{Float64,1} at index [1:201]",
     "output_type": "error",
     "traceback": [
      "BoundsError: attempt to access 179-element Array{Float64,1} at index [1:201]",
      "",
      "Stacktrace:",
      " [1] throw_boundserror(::Array{Float64,1}, ::Tuple{UnitRange{Int64}}) at .\\abstractarray.jl:537",
      " [2] checkbounds at .\\abstractarray.jl:502 [inlined]",
      " [3] getindex(::Array{Float64,1}, ::UnitRange{Int64}) at .\\array.jl:794",
      " [4] gr_display(::Plots.Subplot{Plots.GRBackend}, ::Measures.Length{:mm,Float64}, ::Measures.Length{:mm,Float64}, ::Array{Float64,1}) at C:\\Users\\szymo\\.julia\\packages\\Plots\\bx41w\\src\\backends\\gr.jl:1589",
      " [5] gr_display(::Plots.Plot{Plots.GRBackend}, ::String) at C:\\Users\\szymo\\.julia\\packages\\Plots\\bx41w\\src\\backends\\gr.jl:698",
      " [6] _show(::Base.GenericIOBuffer{Array{UInt8,1}}, ::MIME{Symbol(\"image/svg+xml\")}, ::Plots.Plot{Plots.GRBackend}) at C:\\Users\\szymo\\.julia\\packages\\Plots\\bx41w\\src\\backends\\gr.jl:1887",
      " [7] show(::Base.GenericIOBuffer{Array{UInt8,1}}, ::MIME{Symbol(\"image/svg+xml\")}, ::Plots.Plot{Plots.GRBackend}) at C:\\Users\\szymo\\.julia\\packages\\Plots\\bx41w\\src\\output.jl:215",
      " [8] sprint(::Function, ::MIME{Symbol(\"image/svg+xml\")}, ::Vararg{Any,N} where N; context::Nothing, sizehint::Int64) at .\\strings\\io.jl:105",
      " [9] sprint at .\\strings\\io.jl:101 [inlined]",
      " [10] _ijulia_display_dict(::Plots.Plot{Plots.GRBackend}) at C:\\Users\\szymo\\.julia\\packages\\Plots\\bx41w\\src\\ijulia.jl:53",
      " [11] display_dict(::Plots.Plot{Plots.GRBackend}) at C:\\Users\\szymo\\.julia\\packages\\Plots\\bx41w\\src\\init.jl:81",
      " [12] #invokelatest#1 at .\\essentials.jl:712 [inlined]",
      " [13] invokelatest at .\\essentials.jl:711 [inlined]",
      " [14] execute_request(::ZMQ.Socket, ::IJulia.Msg) at C:\\Users\\szymo\\.julia\\packages\\IJulia\\DrVMH\\src\\execute_request.jl:112",
      " [15] #invokelatest#1 at .\\essentials.jl:712 [inlined]",
      " [16] invokelatest at .\\essentials.jl:711 [inlined]",
      " [17] eventloop(::ZMQ.Socket) at C:\\Users\\szymo\\.julia\\packages\\IJulia\\DrVMH\\src\\eventloop.jl:8",
      " [18] (::IJulia.var\"#15#18\")() at .\\task.jl:358"
     ]
    }
   ],
   "source": [
    "using Plots\n",
    "plot(rangeTan, d, label = \"partials\")\n",
    "plot!(rangeTan, y, label = \"values\")"
   ]
  },
  {
   "cell_type": "markdown",
   "metadata": {},
   "source": [
    "# Softmax"
   ]
  },
  {
   "cell_type": "code",
   "execution_count": 34,
   "metadata": {},
   "outputs": [
    {
     "ename": "UndefVarError",
     "evalue": "UndefVarError: plot not defined",
     "output_type": "error",
     "traceback": [
      "UndefVarError: plot not defined",
      "",
      "Stacktrace:",
      " [1] top-level scope at In[34]:12"
     ]
    }
   ],
   "source": [
    "softmax(arg) = exp.(arg) ./ sum(exp.(arg));\n",
    "\n",
    "A = collect(-10.0:0.1:10.0);\n",
    "y = softmax(A);\n",
    "\n",
    "d = Vector{Float64}\n",
    "d = zeros(0)\n",
    "\n",
    "for i =1:length(A)\n",
    "    push!(d, f_value[i] * (1.0 - f_value[i])) \n",
    "end\n",
    "\n",
    "using Plots\n",
    "plot(A, d, label = \"partials\")\n",
    "plot!(A, y, label = \"values\")"
   ]
  },
  {
   "cell_type": "markdown",
   "metadata": {},
   "source": [
    "# Jacobian"
   ]
  },
  {
   "cell_type": "code",
   "execution_count": null,
   "metadata": {},
   "outputs": [],
   "source": [
    "function jacobian(f::Function, args::Vector{T}) where {T <:Number}\n",
    "    jacobian_columns = Matrix{T}[]\n",
    "    for i=1:length(args)\n",
    "        x = T[]\n",
    "        for j=1:length(args)\n",
    "            if i == j\n",
    "                push!(x, fgrad(f, args[j]))\n",
    "            else\n",
    "                push!(x, 0.0::T)\n",
    "            end\n",
    "        end\n",
    "        push!(jacobian_columns, x[:,:])\n",
    "    end\n",
    "    hcat(jacobian_columns...)\n",
    "end\n",
    "\n",
    "function jacobian(f::Function, xargs::Vector{T}, yargs::Vector{T}) where {T <:Number}\n",
    "    xjacobian_columns = Matrix{T}[]\n",
    "    yjacobian_columns = Matrix{T}[]\n",
    "    @assert length(xargs) == length(yargs)\n",
    "    for i=1:length(xargs)\n",
    "        x = T[]\n",
    "        y = T[]\n",
    "        for j=1:length(xargs)\n",
    "            if i == j\n",
    "                xval, yval = fgrad(f, xargs[j], yargs[j])\n",
    "                push!(x, xval)\n",
    "                push!(y, yval)\n",
    "            else\n",
    "                push!(x, 0.0::T)\n",
    "                push!(y, 0.0::T)\n",
    "            end\n",
    "        end\n",
    "        push!(xjacobian_columns, x[:,:])\n",
    "        push!(yjacobian_columns, y[:,:])\n",
    "    end\n",
    "    hcat(xjacobian_columns...)\n",
    "    hcat(yjacobian_columns...)\n",
    "    xjacobian_columns, yjacobian_columns\n",
    "end"
   ]
  },
  {
   "cell_type": "code",
   "execution_count": null,
   "metadata": {},
   "outputs": [],
   "source": [
    "    x = [i for i in -1.0:0.5:1];\n",
    "    range = [i for i in 0:π/360:2*π] ;\n",
    "    rangeTan = [i for i in -π/2+π/180:π/180:π/2- π/180];\n",
    "\n",
    "    v = -1:0.2:+1\n",
    "    n = length(v)\n",
    "    xv = repeat(v, inner=n)\n",
    "    yv = repeat(v, outer=n)\n",
    "\n",
    "\n",
    "    display(\"Jacobi Rosenbrock\")\n",
    "    dx, dy = jacobian(rosenbrock, xv, yv)\n",
    "    display(dx)\n",
    "    # @show y\n",
    "\n",
    "    display(\"Jacobi Relu\")\n",
    "    y = jacobian(ReLu,x);\n",
    "    display(y)\n",
    "\n",
    "    display(\"Jacobi Relu\")\n",
    "    y = jacobian(ReLu,x);\n",
    "    display(y)\n",
    "\n",
    "    display(\"Jacobi Sin\")\n",
    "    y = jacobian(sin, range);\n",
    "    display(y)\n",
    "    # display(@benchmark $jacobian(x -> $sin.(x), $range))\n",
    "\n",
    "    # Jacobi - Cos\n",
    "    display(\"Jacobi Cos\")\n",
    "    y = jacobian(cos, range);\n",
    "    display(y)\n",
    "    # display(@benchmark $jacobian(x -> $cos.(x), $range))\n",
    "\n",
    "    # Jacobi - Tan\n",
    "    display(\"Jacobi Tan\")\n",
    "    y = jacobian(tan, rangeTan);\n",
    "    display(y)"
   ]
  },
  {
   "cell_type": "code",
   "execution_count": 10,
   "metadata": {},
   "outputs": [
    {
     "data": {
      "text/plain": [
       "19×19 Array{Float64,2}:\n",
       "  4.85593e-5  -3.88806e-9  -6.41033e-9   …  -1.15902e-5   -1.91089e-5\n",
       " -3.88806e-9   8.00581e-5  -1.05689e-8      -1.91089e-5   -3.15053e-5\n",
       " -6.41033e-9  -1.05689e-8   0.000131987     -3.15053e-5   -5.19435e-5\n",
       " -1.05689e-8  -1.74251e-8  -2.87291e-8      -5.19435e-5   -8.56403e-5\n",
       " -1.74251e-8  -2.87291e-8  -4.73663e-8      -8.56403e-5   -0.000141197\n",
       " -2.87291e-8  -4.73663e-8  -7.80938e-8   …  -0.000141197  -0.000232794\n",
       " -4.73663e-8  -7.80938e-8  -1.28755e-7      -0.000232794  -0.000383813\n",
       " -7.80938e-8  -1.28755e-7  -2.12281e-7      -0.000383813  -0.000632801\n",
       " -1.28755e-7  -2.12281e-7  -3.49992e-7      -0.000632801  -0.00104331\n",
       " -2.12281e-7  -3.49992e-7  -5.7704e-7       -0.00104331   -0.00172013\n",
       " -3.49992e-7  -5.7704e-7   -9.51378e-7   …  -0.00172013   -0.00283602\n",
       " -5.7704e-7   -9.51378e-7  -1.56856e-6      -0.00283602   -0.0046758\n",
       " -9.51378e-7  -1.56856e-6  -2.58611e-6      -0.0046758    -0.00770909\n",
       " -1.56856e-6  -2.58611e-6  -4.26378e-6      -0.00770909   -0.0127101\n",
       " -2.58611e-6  -4.26378e-6  -7.02978e-6      -0.0127101    -0.0209555\n",
       " -4.26378e-6  -7.02978e-6  -1.15902e-5   …  -0.0209555    -0.0345498\n",
       " -7.02978e-6  -1.15902e-5  -1.91089e-5      -0.0345498    -0.0569629\n",
       " -1.15902e-5  -1.91089e-5  -3.15053e-5       0.181706     -0.093916\n",
       " -1.91089e-5  -3.15053e-5  -5.19435e-5      -0.093916      0.238657"
      ]
     },
     "execution_count": 10,
     "metadata": {},
     "output_type": "execute_result"
    }
   ],
   "source": [
    "softmax(arg) = exp.(arg) ./ sum(exp.(arg))\n",
    "\n",
    "   function dSoftmaxdx(x::Vector{T}) where {T <: Number}\n",
    "        derivative_matrix = Matrix{T}[]\n",
    "        f_value = softmax(x)\n",
    "        for i =1:length(x)\n",
    "            col = T[]\n",
    "            for j =1:length(x)\n",
    "                if i == j\n",
    "                    push!(col,f_value[i] * (1.0 - f_value[i]))\n",
    "                else\n",
    "                    push!(col, -1.0 * f_value[i] * f_value[j])\n",
    "                end\n",
    "            end\n",
    "            # @show x\n",
    "            push!(derivative_matrix, col[:,:])\n",
    "        end\n",
    "        hcat(derivative_matrix...)\n",
    "    end\n",
    "\n",
    "d = dSoftmaxdx(m)"
   ]
  },
  {
   "cell_type": "code",
   "execution_count": null,
   "metadata": {},
   "outputs": [],
   "source": []
  }
 ],
 "metadata": {
  "kernelspec": {
   "display_name": "Julia 1.4.1",
   "language": "julia",
   "name": "julia-1.4"
  },
  "language_info": {
   "file_extension": ".jl",
   "mimetype": "application/julia",
   "name": "julia",
   "version": "1.4.1"
  }
 },
 "nbformat": 4,
 "nbformat_minor": 4
}
