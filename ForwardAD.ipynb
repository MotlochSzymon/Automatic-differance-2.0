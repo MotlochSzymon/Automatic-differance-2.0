{
 "cells": [
  {
   "cell_type": "markdown",
   "metadata": {},
   "source": [
    "# Packages import"
   ]
  },
  {
   "cell_type": "code",
   "execution_count": null,
   "metadata": {},
   "outputs": [],
   "source": [
    "import Pkg\n",
    "Pkg.add(\"Plots\");\n",
    "Pkg.add(\"BenchmarkTools\");\n",
    "Pkg.add(\"ForwardDiff\");\n",
    "Pkg.add(\"Plots\");\n",
    "Pkg.add(\"BenchmarkTools\");\n",
    "Pkg.add(\"SymPy\");\n",
    "Pkg.add(\"Roots\");"
   ]
  },
  {
   "cell_type": "markdown",
   "metadata": {},
   "source": [
    "# Namespaces"
   ]
  },
  {
   "cell_type": "code",
   "execution_count": null,
   "metadata": {},
   "outputs": [],
   "source": [
    "using Plots;\n",
    "using ForwardDiff\n",
    "using SymPy, LinearAlgebra;\n",
    "using BenchmarkTools;\n",
    "using Roots;"
   ]
  },
  {
   "cell_type": "markdown",
   "metadata": {},
   "source": [
    "# Dual numbers definition"
   ]
  },
  {
   "cell_type": "code",
   "execution_count": null,
   "metadata": {},
   "outputs": [],
   "source": [
    "import Base: +, -, *, /\n",
    "import Base: abs, sin, cos, tan, exp, sqrt, isless\n",
    "import Base: convert, promote_rule\n",
    "import Base: show,sum\n",
    "\n",
    "struct Dual{T <:Number} <:Number\n",
    "    v::T\n",
    "    dv::T\n",
    "end\n",
    "\n",
    "-(x::Dual) = Dual(-x.v, -x.dv)\n",
    "+(x::Dual, y::Dual) = Dual(x.v + y.v , x.dv + y.dv)\n",
    "-(x::Dual, y::Dual) = Dual( x.v - y.v, x.dv - y.dv)\n",
    "*(x::Dual, y::Dual) = Dual(x.v * y.v, x.dv * y.v + x.v * y.dv)\n",
    "\n",
    "/(z::Dual, w::Dual) = Dual(value(z)/value(w), (partials(z)*value(w)-value(z)*partials(w))/(value(w)*value(w)))\n",
    "\n",
    "# /(x::Dual, y::Dual) = Dual( x.v / y.v, (x.dv * y.v - x.v * y.dv)/y.v^2)\n",
    "\n",
    "abs(x::Dual) = Dual(abs(x.v),sign(x.v)*x.dv)\n",
    "sin(x::Dual) = Dual(sin(x.v), cos(x.v)*x.dv)\n",
    "cos(x::Dual) = Dual(cos(x.v),-sin(x.v)*x.dv)\n",
    "tan(x::Dual) = Dual(tan(x.v), one(x.v)*x.dv + tan(x.v)^2*x.dv)\n",
    "#exp(x::Dual) = Dual(exp(x.v), exp(x.v)*x.dv)\n",
    "Base.exp(z::Dual) = (expval = exp(value(z)); Dual(expval, partials(z)*expval))\n",
    "sqrt(x::Dual) = Dual(sqrt(x.v),0.5/sqrt(x.v) * x.dv)\n",
    "isless(x::Dual, y::Dual) = x.v < y.v;\n",
    "sum(x::Array{Dual{Float64},1}) = Dual(sum((p ->p.v).(x)), sum((p ->p.dv).(x)) )\n",
    "\n",
    "convert(::Type{Dual{T}}, x::Dual) where T =\n",
    " Dual(convert(T, x.v), convert(T, x.dv))\n",
    "convert(::Type{Dual{T}}, x::Number) where T =\n",
    " Dual(convert(T, x), zero(T))\n",
    "promote_rule(::Type{Dual{T}}, ::Type{R}) where {T,R} =\n",
    " Dual{promote_type(T,R)}\n",
    "\n",
    "show(io::IO, x::Dual) = print(io, \"(\", x.v, \") + [\", x.dv, \"ϵ]\\n\");\n",
    "value(x::Dual) = x.v;\n",
    "partials(x::Dual) = x.dv;\n",
    "\n",
    "\n",
    "function forwardDerivate(f, x :: Array{Float64,1})\n",
    "    ϵ = Dual(0., 1.);\n",
    "   return @. f(x + ϵ)\n",
    "end\n",
    "\n",
    "function forwardDerivate(f, xv :: Array{Float64,1}, yv :: Array{Float64,1})\n",
    "    ϵ = Dual(0., 1.);\n",
    "    \n",
    "    z = f.(xv .+ ϵ, yv)\n",
    "    dx = 5e-4partials.(z)\n",
    "    z = f.(xv, yv .+ ϵ)\n",
    "    dy = 5e-4partials.(z)\n",
    "    zv = value.(z)  \n",
    "    \n",
    "    return dx, dy, zv\n",
    "end\n",
    "\n",
    "function forwardDerivateAllVector(f, x :: Array{Float64,1})\n",
    "    output = []\n",
    "    ϵ = Dual(0., 1.)\n",
    "\n",
    "    for i in 1:1:length(x)\n",
    "        list = convert(Array{Dual{Float64}}, deepcopy(x))\n",
    "        list[i] = list[i] + ϵ\n",
    "    \n",
    "        append!(output, f(list)[i])\n",
    "     end\n",
    "    return output\n",
    "end\n",
    "\n",
    "J = function jacobian(f::Function, args::Vector{T}) where {T <:Number}\n",
    "    jacobian_columns = Matrix{T}[]\n",
    "    for i=1:length(args)\n",
    "        x = Dual{T}[]\n",
    "        for j=1:length(args)\n",
    "            seed = (i == j)\n",
    "            push!(x, seed ?\n",
    "            Dual(args[j], one(args[j])) :\n",
    "            Dual(args[j],zero(args[j])) )\n",
    "        end\n",
    "        column = partials.([f.(x)...])\n",
    "        push!(jacobian_columns, column[:,:])\n",
    "    end\n",
    "    hcat(jacobian_columns...)\n",
    "end\n",
    "\n",
    "J = function jacobian(f::Function, xargs::Vector{T}, yargs::Vector{T}) where {T <:Number}\n",
    "    xjacobian_columns = Matrix{T}[]\n",
    "    yjacobian_columns = Matrix{T}[]\n",
    "    @assert length(xargs) == length(yargs)\n",
    "    for i=1:length(xargs)\n",
    "        x = Dual{T}[]\n",
    "        y = Dual{T}[]\n",
    "        for j=1:length(xargs)\n",
    "            seed = (i == j)\n",
    "            push!(x, seed ?\n",
    "            Dual(xargs[j], one(xargs[j])) :\n",
    "            Dual(xargs[j],zero(xargs[j])) )\n",
    "            push!(y, seed ?\n",
    "            Dual(yargs[j], one(yargs[j])) :\n",
    "            Dual(yargs[j],zero(yargs[j])) )\n",
    "        end\n",
    "        xcolumn = partials.([f.(x, yargs)...])\n",
    "        ycolumn = partials.([f.(xargs, y)...])\n",
    "        push!(xjacobian_columns, xcolumn[:,:])\n",
    "        push!(yjacobian_columns, ycolumn[:,:])\n",
    "    end\n",
    "    hcat(xjacobian_columns...)\n",
    "    hcat(yjacobian_columns...)\n",
    "    xjacobian_columns, yjacobian_columns\n",
    "end"
   ]
  },
  {
   "cell_type": "markdown",
   "metadata": {},
   "source": [
    "# My Extra functions"
   ]
  },
  {
   "cell_type": "code",
   "execution_count": 27,
   "metadata": {},
   "outputs": [
    {
     "data": {
      "text/plain": [
       "ReLuLibJacobian (generic function with 1 method)"
      ]
     },
     "execution_count": 27,
     "metadata": {},
     "output_type": "execute_result"
    }
   ],
   "source": [
    "function isTheSameValues(x::Array{Float64,1} , y::Array{Float64,1})\n",
    "    #diffrenceArray ::Array{Float64,1} = x - y;\n",
    "    if x == y\n",
    "        println(\"Wyniki są takie same\")\n",
    "    else\n",
    "        println(\"Wyniki są różne\")\n",
    "    end\n",
    "end\n",
    "\n",
    "function isTheSameValues(x::Array{Float64,2} , y::Array{Float64,2})\n",
    "    #diffrenceArray ::Array{Float64,1} = x - y;\n",
    "    if x == y\n",
    "        println(\"Wyniki są takie same\")\n",
    "    else\n",
    "        println(\"Wyniki są różne\")\n",
    "    end\n",
    "end\n",
    "\n",
    "function ReLUExactDiv(x)\n",
    "    if(x <= 0) \n",
    "        return 0\n",
    "        else return 1\n",
    "        end\n",
    "end\n",
    "\n",
    "function errorValue(yValues::Array{Float64,1} , testValues::Array{Float64,1})\n",
    "     error = (mean( abs.(yValues - testValues))) / ( mean(testValues))\n",
    "    println(\"Wartość błędu wynosi: \");\n",
    "    println(error);\n",
    "    return error;\n",
    "end\n",
    "\n",
    "function ReLuLibJacobian()\n",
    "   ReLu(x) = x > zero(x) ? x : zero(x)\n",
    "   a =  [i for i in -1:0.25:0];\n",
    "   b = [i for i in 0.25:0.25:1.25];\n",
    "   aJac = ForwardDiff.jacobian(x ->ReLu(x), a);\n",
    "   bJac = ForwardDiff.jacobian(x ->ReLu(x), b);\n",
    "   \n",
    "    return aJac, bJac\n",
    "end"
   ]
  },
  {
   "cell_type": "markdown",
   "metadata": {},
   "source": [
    "# ReLu"
   ]
  },
  {
   "cell_type": "markdown",
   "metadata": {},
   "source": [
    "## My value"
   ]
  },
  {
   "cell_type": "code",
   "execution_count": null,
   "metadata": {},
   "outputs": [],
   "source": [
    "ReLu(x::Dual) = x > zero(x) ? x : zero(x)\n",
    "x =collect(-1.0:0.05:1.0)\n",
    "y = forwardDerivate(ReLu, x)\n",
    "\n",
    "plot(x, (p->p.dv).(y), label = \"partials\")\n",
    "plot!(x, (p->p.v).(y), label = \"value\")"
   ]
  },
  {
   "cell_type": "code",
   "execution_count": null,
   "metadata": {},
   "outputs": [],
   "source": [
    "@benchmark forwardDerivate(ReLu, x)"
   ]
  },
  {
   "cell_type": "markdown",
   "metadata": {},
   "source": [
    "## Using lib"
   ]
  },
  {
   "cell_type": "code",
   "execution_count": null,
   "metadata": {},
   "outputs": [],
   "source": [
    "ReLu(x) = x > zero(x) ? x : zero(x)\n",
    "    d = x -> ForwardDiff.derivative(ReLu, x);\n",
    "    plot(x, d.(x));"
   ]
  },
  {
   "cell_type": "code",
   "execution_count": null,
   "metadata": {},
   "outputs": [],
   "source": [
    "myValue = (p->p.dv).(y);\n",
    "libValue = d.(x);\n",
    "\n",
    "isTheSameValues(myValue, libValue)"
   ]
  },
  {
   "cell_type": "markdown",
   "metadata": {},
   "source": [
    "## Exact value - comparation"
   ]
  },
  {
   "cell_type": "code",
   "execution_count": null,
   "metadata": {},
   "outputs": [],
   "source": [
    "y = @. ReLUExactDiv(x);"
   ]
  },
  {
   "cell_type": "markdown",
   "metadata": {},
   "source": [
    "# Softmax"
   ]
  },
  {
   "cell_type": "markdown",
   "metadata": {},
   "source": [
    "## My value "
   ]
  },
  {
   "cell_type": "code",
   "execution_count": null,
   "metadata": {},
   "outputs": [],
   "source": [
    "softmax(arg::Array{Dual{Float64}}) = exp.(arg) ./ sum(exp.(arg));\n",
    "A = collect(-10.0:0.1:10.0)\n",
    "\n",
    "output = forwardDerivateAllVector(softmax, A)\n",
    "plot(A, (x->x.v).(output), label = \"value\")\n",
    "display(plot!(A, (x->x.dv).(output), label = \"derivative\"))"
   ]
  },
  {
   "cell_type": "code",
   "execution_count": null,
   "metadata": {},
   "outputs": [],
   "source": [
    "@benchmark forwardDerivateAllVector(softmax, A)"
   ]
  },
  {
   "cell_type": "markdown",
   "metadata": {},
   "source": [
    "## Using lib"
   ]
  },
  {
   "cell_type": "code",
   "execution_count": null,
   "metadata": {},
   "outputs": [],
   "source": [
    "x = -1.0:0.05:+1.0\n",
    "softmax(arg) = exp.(arg) ./ sum(exp.(arg));\n",
    "d = x -> ForwardDiff.derivative(softmax, x)\n",
    " plot(x, d.(x))"
   ]
  },
  {
   "cell_type": "markdown",
   "metadata": {},
   "source": [
    "# Sin"
   ]
  },
  {
   "cell_type": "markdown",
   "metadata": {},
   "source": [
    "## My value "
   ]
  },
  {
   "cell_type": "code",
   "execution_count": null,
   "metadata": {},
   "outputs": [],
   "source": [
    "range =  collect(0:π/360:2*π);\n",
    "sinus = forwardDerivate(sin, range);\n",
    "\n",
    "plot(range, (x->x.v).(sinus), label = \"sinus Dual.value\")\n",
    "plot!(range, (x->x.dv).(sinus), label = \"sinus Dual.particle\")"
   ]
  },
  {
   "cell_type": "code",
   "execution_count": null,
   "metadata": {
    "scrolled": true
   },
   "outputs": [],
   "source": [
    "@benchmark forwardDerivate(sin, range);"
   ]
  },
  {
   "cell_type": "markdown",
   "metadata": {},
   "source": [
    "## Exact value - comparation"
   ]
  },
  {
   "cell_type": "code",
   "execution_count": null,
   "metadata": {},
   "outputs": [],
   "source": [
    "x= symbols(\"x\", real=true) # also integer, positive, negative...\n",
    "f = sin(x)\n",
    "dSin = diff(f,x);\n",
    "dSin = convert(Function, dSin);\n",
    "exactValue = dSin.(range);\n",
    "\n",
    "myValue = (p->p.dv).(sinus);\n",
    "\n",
    "isTheSameValues(myValue, exactValue)"
   ]
  },
  {
   "cell_type": "markdown",
   "metadata": {},
   "source": [
    "# Cos"
   ]
  },
  {
   "cell_type": "code",
   "execution_count": null,
   "metadata": {},
   "outputs": [],
   "source": [
    "range =  collect(0:π/360:2*π);\n",
    "cosinus = forwardDerivate(cos, range);\n",
    "\n",
    "plot(range, (x->x.v).(cosinus), label = \"cosinus Dual.value\")\n",
    "plot!(range, (x->x.dv).(cosinus), label = \"cosinus Dual.particle\")"
   ]
  },
  {
   "cell_type": "code",
   "execution_count": null,
   "metadata": {},
   "outputs": [],
   "source": [
    "@benchmark forwardDerivate(cos, range);"
   ]
  },
  {
   "cell_type": "markdown",
   "metadata": {},
   "source": [
    "# Exact value - comparation"
   ]
  },
  {
   "cell_type": "code",
   "execution_count": null,
   "metadata": {},
   "outputs": [],
   "source": [
    "x= symbols(\"x\", real=true) # also integer, positive, negative...\n",
    "f = cos(x);\n",
    "dCos = diff(f,x);\n",
    "dCos = convert(Function, dCos);\n",
    "exactValue = dCos.(range);\n",
    "\n",
    "myValue = (p->p.dv).(cosinus);\n",
    "\n",
    "isTheSameValues(myValue, exactValue)\n"
   ]
  },
  {
   "cell_type": "markdown",
   "metadata": {},
   "source": [
    "# Tan"
   ]
  },
  {
   "cell_type": "code",
   "execution_count": null,
   "metadata": {},
   "outputs": [],
   "source": [
    "range =  collect(-π/2+π/180:π/180:π/2- π/180)\n",
    "tang = forwardDerivate(tan, range)\n",
    "\n",
    "plot(range, (x->x.v).(tang), label = \"tangens Dual.value\")\n",
    "plot!(range, (x->x.dv).(tang), label = \"tangens Dual.particle\")"
   ]
  },
  {
   "cell_type": "code",
   "execution_count": null,
   "metadata": {},
   "outputs": [],
   "source": [
    "plot(range, (x->x.v).(tang), label = \"tangens Dual.value\")\n",
    "plot!(range, (x->x.dv).(tang), label = \"tangens Dual.particle\")"
   ]
  },
  {
   "cell_type": "markdown",
   "metadata": {},
   "source": [
    "# Rosenbrock"
   ]
  },
  {
   "cell_type": "markdown",
   "metadata": {},
   "source": [
    "## My value"
   ]
  },
  {
   "cell_type": "code",
   "execution_count": null,
   "metadata": {},
   "outputs": [],
   "source": [
    "rosenbrock(x, y) = (1.0 - x*x) + 100.0*(y - x*x)*(y - x*x);\n",
    "v = -1:.2:+1\n",
    "n = length(v)\n",
    "xv = repeat(v, inner=n)\n",
    "yv = repeat(v, outer=n)\n",
    "\n",
    "dx,dy,zv = forwardDerivate(rosenbrock, xv, yv);\n",
    "\n",
    "zv = reshape(zv, n, n)\n",
    "contour(v, v, zv, fill=true)\n",
    "quiver!(xv[:], yv[:], gradient=(dx, dy))"
   ]
  },
  {
   "cell_type": "code",
   "execution_count": null,
   "metadata": {},
   "outputs": [],
   "source": [
    "@benchmark forwardDerivate(rosenbrock, xv, yv)"
   ]
  },
  {
   "cell_type": "code",
   "execution_count": null,
   "metadata": {},
   "outputs": [],
   "source": [
    "rosenbrock(x, y) = (1.0 - x*x) + 100.0*(y - x*x)*(y - x*x);\n",
    "v = -1:.2:+1;\n",
    "n = length(v);\n",
    "xv = repeat(v, inner=n);\n",
    "yv = repeat(v, outer=n);|\n",
    "\n",
    "x,y,z = symbols(\"x, y, z\", real=true) # also integer, positive, negative...\n",
    "\n",
    "f = rosenbrock(x,y)\n",
    "dxRosenbrock = diff(f,x);\n",
    "dxRosenbrock = convert(Function, dxRosenbrock);\n",
    "dyRosenbrock = diff(f,y);\n",
    "dyRosenbrock = convert(Function, dyRosenbrock);\n",
    "\n",
    "dxExactValue = 5e-4 *dxRosenbrock.(xv, yv);\n",
    "dyExactValue = 5e-4 *dyRosenbrock.(xv, yv);\n",
    "\n",
    "println(\"Porównanie dx: \");\n",
    "isTheSameValues(dx, dxExactValue);\n",
    "dxError = errorValue(dxExactValue, dx);\n",
    "println();\n",
    "\n",
    "println(\"Porównanie dy: \");\n",
    "isTheSameValues(dy, dyExactValue);\n",
    "dyError = errorValue(dyExactValue, dy);\n",
    "\n",
    "println();\n",
    "println(\"Średnia wartość błędu \");\n",
    "mean([dxError, dyError])\n",
    "\n",
    "#zv = reshape(zv, n, n)\n",
    "#contour(v, v, zv, fill=true)\n",
    "#quiver!(xv[:], yv[:], gradient=(dxExactValue, dyExactValue))"
   ]
  },
  {
   "cell_type": "markdown",
   "metadata": {},
   "source": [
    "# Jacobi matrix"
   ]
  },
  {
   "cell_type": "markdown",
   "metadata": {},
   "source": [
    "## Test data"
   ]
  },
  {
   "cell_type": "code",
   "execution_count": 21,
   "metadata": {},
   "outputs": [],
   "source": [
    "x= [i for i in -1.0:0.25:1.25];\n",
    "range = [i for i in 0:π/360:2*π] ;\n",
    "rangeTan = [i for i in -π/2+π/180:π/180:π/2- π/180];"
   ]
  },
  {
   "cell_type": "markdown",
   "metadata": {},
   "source": [
    "## Jacobi - ReLU"
   ]
  },
  {
   "cell_type": "markdown",
   "metadata": {},
   "source": [
    "## My values"
   ]
  },
  {
   "cell_type": "code",
   "execution_count": 31,
   "metadata": {},
   "outputs": [],
   "source": [
    "ReLu(x) = x > zero(x) ? x : zero(x);"
   ]
  },
  {
   "cell_type": "code",
   "execution_count": 32,
   "metadata": {},
   "outputs": [],
   "source": [
    "y = J(ReLu,x);"
   ]
  },
  {
   "cell_type": "code",
   "execution_count": null,
   "metadata": {},
   "outputs": [],
   "source": [
    "@benchmark J(ReLu,x)"
   ]
  },
  {
   "cell_type": "code",
   "execution_count": 28,
   "metadata": {},
   "outputs": [
    {
     "data": {
      "text/plain": [
       "\"Jacobi Relu\""
      ]
     },
     "metadata": {},
     "output_type": "display_data"
    },
    {
     "data": {
      "text/plain": [
       "5×5 Array{Float64,2}:\n",
       " 0.0  0.0  0.0  0.0  0.0\n",
       " 0.0  0.0  0.0  0.0  0.0\n",
       " 0.0  0.0  0.0  0.0  0.0\n",
       " 0.0  0.0  0.0  1.0  0.0\n",
       " 0.0  0.0  0.0  0.0  1.0"
      ]
     },
     "metadata": {},
     "output_type": "display_data"
    }
   ],
   "source": [
    "x= [i for i in -1.0:0.5:1];\n",
    "display(\"Jacobi Relu\")\n",
    "y = jacobian(ReLu,x);\n",
    "display(y)"
   ]
  },
  {
   "cell_type": "markdown",
   "metadata": {},
   "source": [
    "## Exact values "
   ]
  },
  {
   "cell_type": "code",
   "execution_count": 29,
   "metadata": {},
   "outputs": [
    {
     "data": {
      "text/plain": [
       "([0.0 0.0 … 0.0 0.0; 0.0 0.0 … 0.0 0.0; … ; 0.0 0.0 … 0.0 0.0; 0.0 0.0 … 0.0 0.0], [1.0 0.0 … 0.0 0.0; 0.0 1.0 … 0.0 0.0; … ; 0.0 0.0 … 1.0 0.0; 0.0 0.0 … 0.0 1.0])"
      ]
     },
     "execution_count": 29,
     "metadata": {},
     "output_type": "execute_result"
    }
   ],
   "source": [
    "ReLuLibJacobian()"
   ]
  },
  {
   "cell_type": "markdown",
   "metadata": {},
   "source": [
    "## Jacobi - SoftMax"
   ]
  },
  {
   "cell_type": "code",
   "execution_count": null,
   "metadata": {},
   "outputs": [],
   "source": [
    "y = J(softmax,x)"
   ]
  },
  {
   "cell_type": "code",
   "execution_count": null,
   "metadata": {},
   "outputs": [],
   "source": [
    "@benchmark J(softmax,x)"
   ]
  },
  {
   "cell_type": "markdown",
   "metadata": {},
   "source": [
    "## Jacobi - Sin"
   ]
  },
  {
   "cell_type": "code",
   "execution_count": 55,
   "metadata": {},
   "outputs": [],
   "source": [
    "y = J(x -> sin.(x), range);"
   ]
  },
  {
   "cell_type": "code",
   "execution_count": null,
   "metadata": {},
   "outputs": [],
   "source": [
    "@benchmark J(x -> sin.(x), range)"
   ]
  },
  {
   "cell_type": "markdown",
   "metadata": {},
   "source": [
    "## Jacobi - Cos"
   ]
  },
  {
   "cell_type": "code",
   "execution_count": null,
   "metadata": {},
   "outputs": [],
   "source": [
    "y = J(x -> cos.(x), range);"
   ]
  },
  {
   "cell_type": "code",
   "execution_count": null,
   "metadata": {},
   "outputs": [],
   "source": [
    "@benchmark J(x -> cos.(x), range)"
   ]
  },
  {
   "cell_type": "markdown",
   "metadata": {},
   "source": [
    "## Jacobi - Tan"
   ]
  },
  {
   "cell_type": "code",
   "execution_count": null,
   "metadata": {},
   "outputs": [],
   "source": [
    "y = J(x -> tan.(x), rangeTan);"
   ]
  },
  {
   "cell_type": "code",
   "execution_count": null,
   "metadata": {},
   "outputs": [],
   "source": [
    "@benchmark J(x -> tan.(x), range)"
   ]
  }
 ],
 "metadata": {
  "kernelspec": {
   "display_name": "Julia 1.4.1",
   "language": "julia",
   "name": "julia-1.4"
  },
  "language_info": {
   "file_extension": ".jl",
   "mimetype": "application/julia",
   "name": "julia",
   "version": "1.4.1"
  }
 },
 "nbformat": 4,
 "nbformat_minor": 2
}
